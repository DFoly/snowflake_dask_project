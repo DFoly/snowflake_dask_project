{
 "cells": [
  {
   "cell_type": "code",
   "execution_count": 5,
   "id": "stretch-rider",
   "metadata": {
    "execution": {
     "iopub.execute_input": "2021-06-17T10:28:38.569964Z",
     "iopub.status.busy": "2021-06-17T10:28:38.569718Z",
     "iopub.status.idle": "2021-06-17T10:28:38.575928Z",
     "shell.execute_reply": "2021-06-17T10:28:38.573312Z",
     "shell.execute_reply.started": "2021-06-17T10:28:38.569939Z"
    }
   },
   "outputs": [],
   "source": [
    "import time\n",
    "import pandas as pd\n",
    "import numpy as np\n",
    "from sklearn.preprocessing import StandardScaler, OneHotEncoder\n",
    "from sklearn.impute import SimpleImputer\n",
    "from sklearn.pipeline import Pipeline\n",
    "from sklearn.compose import ColumnTransformer\n",
    "from sklearn.model_selection import GridSearchCV, train_test_split\n",
    "from sklearn.linear_model import LogisticRegression\n",
    "from sklearn.ensemble import GradientBoostingClassifier, RandomForestClassifier"
   ]
  },
  {
   "cell_type": "code",
   "execution_count": 3,
   "id": "oriented-queensland",
   "metadata": {
    "execution": {
     "iopub.execute_input": "2021-06-17T10:27:05.236965Z",
     "iopub.status.busy": "2021-06-17T10:27:05.236706Z",
     "iopub.status.idle": "2021-06-17T10:27:46.179953Z",
     "shell.execute_reply": "2021-06-17T10:27:46.178923Z",
     "shell.execute_reply.started": "2021-06-17T10:27:05.236929Z"
    }
   },
   "outputs": [
    {
     "name": "stdout",
     "output_type": "stream",
     "text": [
      "Num rows: 2100750, Size: 258.396047 MB\n",
      "TARGET                                  int32\n",
      "HOUSEHOLD_KEY                         float32\n",
      "COUPONS_REDEEMED                        int32\n",
      "NUMBER_OF_CAMPAIGNS                     int32\n",
      "COUPON_DAYS                             int32\n",
      "FIRST_COUPON_DAY                        int32\n",
      "LAST_COUPON_DAY                         int32\n",
      "CAMPAIGNS_RECEIVED_REDEEMED_RATIO     float32\n",
      "NUMBER_TYPE_A                           int32\n",
      "NUMBER_TYPE_B                           int32\n",
      "NUMBER_TYPE_C                           int32\n",
      "AGE_DESC                             category\n",
      "MARITAL_STATUS_CODE                  category\n",
      "INCOME_DESC                          category\n",
      "HOMEOWNER_DESC                       category\n",
      "HH_COMP_DESC                         category\n",
      "HOUSEHOLD_SIZE_DESC                  category\n",
      "KID_CATEGORY_DESC                    category\n",
      "NUMBER_OF_PURCHASES                     int32\n",
      "TOTAL_NUMBER_OF_PRODUCTS                int32\n",
      "AVG_PRODUCTS_PER_BASKET               float32\n",
      "TOTAL_SPEND                             int32\n",
      "STD_SPEND                             float32\n",
      "AVG_SPEND_PER_BASKET                  float32\n",
      "AVG_SPEND_PER_PRODUCT                 float32\n",
      "MOST_EXPENSIVE_PURCHASE                 int32\n",
      "AVG_DISCOUNT                          float32\n",
      "BIGGEST_DISCOUNT                        int32\n",
      "CUSTOMER_AGE                            int32\n",
      "NUMBER_OF_WEEKS                         int32\n",
      "NUMBER_UNIQUE_DAYS                      int32\n",
      "AVG_GAP_IN_TRIPS                      float32\n",
      "STD_GAPS_IN_TRIPS                     float32\n",
      "MAX_GAPS_IN_TRIPS                     float32\n",
      "dtype: object\n",
      "CPU times: user 21 s, sys: 3.4 s, total: 24.4 s\n",
      "Wall time: 40.9 s\n"
     ]
    }
   ],
   "source": [
    "%%time\n",
    "\n",
    "df = pd.read_csv(\n",
    "    \"https://storage.googleapis.com/gcpdatascience-tribal-bird-305118/dunnhumby/training_data_psuedo.csv\",\n",
    "     dtype={\n",
    "        'TARGET': 'int32',\n",
    "        'HOUSEHOLD_KEY': 'float32',\n",
    "        'COUPONS_REDEEMED': 'int32',\n",
    "        'NUMBER_OF_CAMPAIGNS': 'int32',\n",
    "        'COUPON_DAYS': 'int32',\n",
    "        'FIRST_COUPON_DAY': 'int32',\n",
    "        'LAST_COUPON_DAY': 'int32',\n",
    "        'CAMPAIGNS_RECEIVED_REDEEMED_RATIO': 'float32',\n",
    "        'NUMBER_TYPE_A': 'int32',\n",
    "        'NUMBER_TYPE_B': 'int32',\n",
    "        'NUMBER_TYPE_C': 'int32',\n",
    "        'AGE_DESC': 'category',\n",
    "        'MARITAL_STATUS_CODE': 'category',\n",
    "        'INCOME_DESC': 'category',\n",
    "        'HOMEOWNER_DESC': 'category',\n",
    "        'HH_COMP_DESC': 'category',\n",
    "        'HOUSEHOLD_SIZE_DESC': 'category',\n",
    "        'KID_CATEGORY_DESC': 'category',\n",
    "        'NUMBER_OF_PURCHASES': 'int32',\n",
    "        'TOTAL_NUMBER_OF_PRODUCTS': 'int32' , \n",
    "        'AVG_PRODUCTS_PER_BASKET': 'float32',\n",
    "        'TOTAL_SPEND': 'int32',\n",
    "        'STD_SPEND': 'float32',\n",
    "        'AVG_SPEND_PER_BASKET': 'float32',\n",
    "        'AVG_SPEND_PER_PRODUCT': 'float32',\n",
    "        'MOST_EXPENSIVE_PURCHASE':'int32',\n",
    "        'AVG_DISCOUNT': 'float32',\n",
    "        'BIGGEST_DISCOUNT': 'int32',\n",
    "        'CUSTOMER_AGE': 'int32',\n",
    "        'NUMBER_OF_WEEKS': 'int32',\n",
    "        'NUMBER_UNIQUE_DAYS': 'int32',\n",
    "        'AVG_GAP_IN_TRIPS': 'float32',\n",
    "        'STD_GAPS_IN_TRIPS': 'float32',\n",
    "        'MAX_GAPS_IN_TRIPS': 'float32'\n",
    "    }\n",
    ").sample(frac=0.3)\n",
    "\n",
    "print(f\"Num rows: {len(df)}, Size: {df.memory_usage(deep=True).sum() / 1e6} MB\")\n",
    "\n",
    "print(df.dtypes)"
   ]
  },
  {
   "cell_type": "code",
   "execution_count": 6,
   "id": "fewer-wheel",
   "metadata": {
    "execution": {
     "iopub.execute_input": "2021-06-17T10:28:42.616467Z",
     "iopub.status.busy": "2021-06-17T10:28:42.616194Z",
     "iopub.status.idle": "2021-06-17T10:28:43.570809Z",
     "shell.execute_reply": "2021-06-17T10:28:43.569636Z",
     "shell.execute_reply.started": "2021-06-17T10:28:42.616440Z"
    }
   },
   "outputs": [],
   "source": [
    "features = [col for col in df.columns if col not in [\"TARGET\", \"HOUSEHOLD_KEY\"]]\n",
    "label = \"TARGET\"\n",
    "\n",
    "# create column transformer\n",
    "numeric_features = df[features].select_dtypes(include=[\"int32\", \"float32\"]).columns\n",
    "categorical_features = df[features].select_dtypes(include=[\"category\"]).columns\n",
    "\n",
    "## train test split\n",
    "X_train, X_test, y_train, y_test = train_test_split(\n",
    "    df[features], df[label], test_size=0.25, random_state=2,\n",
    "    shuffle=True\n",
    ")\n",
    "\n",
    "numeric_transformer = Pipeline(\n",
    "    steps=[(\"imputer\", SimpleImputer(strategy=\"median\")), (\"scaler\", StandardScaler())]\n",
    ")\n",
    "\n",
    "categorical_transformer =  OneHotEncoder()\n",
    "\n",
    "preprocessor = ColumnTransformer(\n",
    "    transformers=[\n",
    "        (\"num\", numeric_transformer, numeric_features),\n",
    "        (\"cat\", categorical_transformer, categorical_features),\n",
    "    ]\n",
    ")\n",
    "\n",
    "\n",
    "lr = Pipeline(\n",
    "    steps=[\n",
    "        (\"preprocessor\", preprocessor),\n",
    "        (\"LR\", LogisticRegression(solver=\"liblinear\", class_weight=\"balanced\", verbose=10)),\n",
    "    ]\n",
    ")\n",
    "\n",
    "\n",
    "rf = Pipeline(\n",
    "       steps=[\n",
    "         (\"preprocessor\", preprocessor),\n",
    "         (\"RF\", RandomForestClassifier(random_state=2, class_weight=\"balanced\", verbose=10)),\n",
    "       ]\n",
    ")\n",
    "\n",
    "\n",
    "xgb = Pipeline(\n",
    "        steps=[\n",
    "         (\"preprocessor\", preprocessor),\n",
    "         (\"XGB\", GradientBoostingClassifier(random_state=2, verbose=10)),\n",
    "                ]\n",
    "            )\n",
    "\n",
    "pipelines = [lr, rf, xgb]"
   ]
  },
  {
   "cell_type": "markdown",
   "id": "official-trader",
   "metadata": {},
   "source": [
    "## SK Learn Pipeline"
   ]
  },
  {
   "cell_type": "code",
   "execution_count": 7,
   "id": "periodic-buyer",
   "metadata": {
    "execution": {
     "iopub.execute_input": "2021-06-17T10:28:46.740690Z",
     "iopub.status.busy": "2021-06-17T10:28:46.740447Z",
     "iopub.status.idle": "2021-06-17T11:03:11.040535Z",
     "shell.execute_reply": "2021-06-17T11:03:11.039633Z",
     "shell.execute_reply.started": "2021-06-17T10:28:46.740666Z"
    }
   },
   "outputs": [
    {
     "name": "stdout",
     "output_type": "stream",
     "text": [
      "[LibLinear]"
     ]
    },
    {
     "name": "stderr",
     "output_type": "stream",
     "text": [
      "[Parallel(n_jobs=1)]: Using backend SequentialBackend with 1 concurrent workers.\n"
     ]
    },
    {
     "name": "stdout",
     "output_type": "stream",
     "text": [
      "building tree 1 of 100\n"
     ]
    },
    {
     "name": "stderr",
     "output_type": "stream",
     "text": [
      "[Parallel(n_jobs=1)]: Done   1 out of   1 | elapsed:    8.9s remaining:    0.0s\n"
     ]
    },
    {
     "name": "stdout",
     "output_type": "stream",
     "text": [
      "building tree 2 of 100\n"
     ]
    },
    {
     "name": "stderr",
     "output_type": "stream",
     "text": [
      "[Parallel(n_jobs=1)]: Done   2 out of   2 | elapsed:   18.3s remaining:    0.0s\n"
     ]
    },
    {
     "name": "stdout",
     "output_type": "stream",
     "text": [
      "building tree 3 of 100\n"
     ]
    },
    {
     "name": "stderr",
     "output_type": "stream",
     "text": [
      "[Parallel(n_jobs=1)]: Done   3 out of   3 | elapsed:   27.6s remaining:    0.0s\n"
     ]
    },
    {
     "name": "stdout",
     "output_type": "stream",
     "text": [
      "building tree 4 of 100\n"
     ]
    },
    {
     "name": "stderr",
     "output_type": "stream",
     "text": [
      "[Parallel(n_jobs=1)]: Done   4 out of   4 | elapsed:   36.6s remaining:    0.0s\n"
     ]
    },
    {
     "name": "stdout",
     "output_type": "stream",
     "text": [
      "building tree 5 of 100\n"
     ]
    },
    {
     "name": "stderr",
     "output_type": "stream",
     "text": [
      "[Parallel(n_jobs=1)]: Done   5 out of   5 | elapsed:   45.9s remaining:    0.0s\n"
     ]
    },
    {
     "name": "stdout",
     "output_type": "stream",
     "text": [
      "building tree 6 of 100\n"
     ]
    },
    {
     "name": "stderr",
     "output_type": "stream",
     "text": [
      "[Parallel(n_jobs=1)]: Done   6 out of   6 | elapsed:   55.4s remaining:    0.0s\n"
     ]
    },
    {
     "name": "stdout",
     "output_type": "stream",
     "text": [
      "building tree 7 of 100\n"
     ]
    },
    {
     "name": "stderr",
     "output_type": "stream",
     "text": [
      "[Parallel(n_jobs=1)]: Done   7 out of   7 | elapsed:  1.1min remaining:    0.0s\n"
     ]
    },
    {
     "name": "stdout",
     "output_type": "stream",
     "text": [
      "building tree 8 of 100\n"
     ]
    },
    {
     "name": "stderr",
     "output_type": "stream",
     "text": [
      "[Parallel(n_jobs=1)]: Done   8 out of   8 | elapsed:  1.2min remaining:    0.0s\n"
     ]
    },
    {
     "name": "stdout",
     "output_type": "stream",
     "text": [
      "building tree 9 of 100\n"
     ]
    },
    {
     "name": "stderr",
     "output_type": "stream",
     "text": [
      "[Parallel(n_jobs=1)]: Done   9 out of   9 | elapsed:  1.4min remaining:    0.0s\n"
     ]
    },
    {
     "name": "stdout",
     "output_type": "stream",
     "text": [
      "building tree 10 of 100\n",
      "building tree 11 of 100\n",
      "building tree 12 of 100\n",
      "building tree 13 of 100\n",
      "building tree 14 of 100\n",
      "building tree 15 of 100\n",
      "building tree 16 of 100\n",
      "building tree 17 of 100\n",
      "building tree 18 of 100\n",
      "building tree 19 of 100\n",
      "building tree 20 of 100\n",
      "building tree 21 of 100\n",
      "building tree 22 of 100\n",
      "building tree 23 of 100\n",
      "building tree 24 of 100\n",
      "building tree 25 of 100\n",
      "building tree 26 of 100\n",
      "building tree 27 of 100\n",
      "building tree 28 of 100\n",
      "building tree 29 of 100\n",
      "building tree 30 of 100\n",
      "building tree 31 of 100\n",
      "building tree 32 of 100\n",
      "building tree 33 of 100\n",
      "building tree 34 of 100\n",
      "building tree 35 of 100\n",
      "building tree 36 of 100\n",
      "building tree 37 of 100\n",
      "building tree 38 of 100\n",
      "building tree 39 of 100\n",
      "building tree 40 of 100\n",
      "building tree 41 of 100\n",
      "building tree 42 of 100\n",
      "building tree 43 of 100\n",
      "building tree 44 of 100\n",
      "building tree 45 of 100\n",
      "building tree 46 of 100\n",
      "building tree 47 of 100\n",
      "building tree 48 of 100\n",
      "building tree 49 of 100\n",
      "building tree 50 of 100\n",
      "building tree 51 of 100\n",
      "building tree 52 of 100\n",
      "building tree 53 of 100\n",
      "building tree 54 of 100\n",
      "building tree 55 of 100\n",
      "building tree 56 of 100\n",
      "building tree 57 of 100\n",
      "building tree 58 of 100\n",
      "building tree 59 of 100\n",
      "building tree 60 of 100\n",
      "building tree 61 of 100\n",
      "building tree 62 of 100\n",
      "building tree 63 of 100\n",
      "building tree 64 of 100\n",
      "building tree 65 of 100\n",
      "building tree 66 of 100\n",
      "building tree 67 of 100\n",
      "building tree 68 of 100\n",
      "building tree 69 of 100\n",
      "building tree 70 of 100\n",
      "building tree 71 of 100\n",
      "building tree 72 of 100\n",
      "building tree 73 of 100\n",
      "building tree 74 of 100\n",
      "building tree 75 of 100\n",
      "building tree 76 of 100\n",
      "building tree 77 of 100\n",
      "building tree 78 of 100\n",
      "building tree 79 of 100\n",
      "building tree 80 of 100\n",
      "building tree 81 of 100\n",
      "building tree 82 of 100\n",
      "building tree 83 of 100\n",
      "building tree 84 of 100\n",
      "building tree 85 of 100\n",
      "building tree 86 of 100\n",
      "building tree 87 of 100\n",
      "building tree 88 of 100\n",
      "building tree 89 of 100\n",
      "building tree 90 of 100\n",
      "building tree 91 of 100\n",
      "building tree 92 of 100\n",
      "building tree 93 of 100\n",
      "building tree 94 of 100\n",
      "building tree 95 of 100\n",
      "building tree 96 of 100\n",
      "building tree 97 of 100\n",
      "building tree 98 of 100\n",
      "building tree 99 of 100\n",
      "building tree 100 of 100\n"
     ]
    },
    {
     "name": "stderr",
     "output_type": "stream",
     "text": [
      "[Parallel(n_jobs=1)]: Done 100 out of 100 | elapsed: 12.7min finished\n"
     ]
    },
    {
     "name": "stdout",
     "output_type": "stream",
     "text": [
      "      Iter       Train Loss   Remaining Time \n",
      "         1           1.2421           19.86m\n",
      "         2           1.1888           19.77m\n",
      "         3           1.1437           19.54m\n",
      "         4           1.1048           19.33m\n",
      "         5           1.0712           19.09m\n",
      "         6           1.0406           18.88m\n",
      "        16           0.8570           16.90m\n",
      "        17           0.8456           16.70m\n",
      "        18           0.8346           16.51m\n",
      "        19           0.8244           16.31m\n",
      "        20           0.8152           16.10m\n",
      "        21           0.8058           15.91m\n",
      "        22           0.7968           15.70m\n",
      "        23           0.7888           15.50m\n",
      "        24           0.7804           15.29m\n",
      "        25           0.7725           15.09m\n",
      "        26           0.7653           14.90m\n",
      "        27           0.7578           14.73m\n",
      "        28           0.7513           14.54m\n",
      "        29           0.7448           14.35m\n",
      "        30           0.7384           14.14m\n",
      "        31           0.7323           13.95m\n",
      "        32           0.7261           13.75m\n",
      "        33           0.7206           13.54m\n",
      "        34           0.7150           13.33m\n",
      "        35           0.7095           13.14m\n",
      "        36           0.7043           12.98m\n",
      "        37           0.6994           12.83m\n",
      "        38           0.6944           12.66m\n",
      "        39           0.6892           12.55m\n",
      "        40           0.6844           12.34m\n",
      "        41           0.6797           12.13m\n",
      "        42           0.6750           11.93m\n",
      "        43           0.6706           11.72m\n",
      "        44           0.6664           11.52m\n",
      "        45           0.6624           11.31m\n",
      "        46           0.6584           11.11m\n",
      "        47           0.6543           10.90m\n",
      "        48           0.6502           10.70m\n",
      "        49           0.6463           10.50m\n",
      "        50           0.6425           10.29m\n",
      "        51           0.6385           10.09m\n",
      "        52           0.6348            9.88m\n",
      "        53           0.6313            9.67m\n",
      "        54           0.6276            9.46m\n",
      "        55           0.6243            9.26m\n",
      "        56           0.6209            9.05m\n",
      "        57           0.6175            8.85m\n",
      "        58           0.6142            8.64m\n",
      "        59           0.6109            8.43m\n",
      "        60           0.6078            8.23m\n",
      "        61           0.6047            8.02m\n",
      "        62           0.6015            7.81m\n",
      "        63           0.5985            7.60m\n",
      "        64           0.5955            7.39m\n",
      "        65           0.5925            7.19m\n",
      "        66           0.5898            6.98m\n",
      "        67           0.5872            6.77m\n",
      "        68           0.5844            6.56m\n",
      "        77           0.5613            4.71m\n",
      "        78           0.5590            4.50m\n",
      "        79           0.5566            4.29m\n",
      "        80           0.5542            4.09m\n",
      "        81           0.5519            3.88m\n",
      "        82           0.5495            3.68m\n",
      "        83           0.5472            3.47m\n",
      "        84           0.5451            3.27m\n",
      "        85           0.5428            3.07m\n",
      "        86           0.5407            2.86m\n",
      "        87           0.5387            2.66m\n",
      "        88           0.5366            2.45m\n",
      "        89           0.5346            2.25m\n",
      "        90           0.5325            2.05m\n",
      "        91           0.5304            1.84m\n",
      "        92           0.5284            1.64m\n",
      "        93           0.5265            1.43m\n",
      "        94           0.5245            1.23m\n",
      "        95           0.5227            1.02m\n",
      "        96           0.5209           49.08s\n",
      "        97           0.5191           36.80s\n",
      "        98           0.5170           24.53s\n",
      "        99           0.5152           12.27s\n",
      "       100           0.5135            0.00s\n",
      "CPU times: user 34min 2s, sys: 6.75 s, total: 34min 9s\n",
      "Wall time: 34min 24s\n"
     ]
    }
   ],
   "source": [
    "%%time \n",
    "\n",
    "start = time.perf_counter()\n",
    "for pipe in pipelines:\n",
    "    pipe.fit(X_train, y_train)\n",
    "\n",
    "end = time.perf_counter()\n",
    "pipeline_timed_fit = end - start"
   ]
  }
 ],
 "metadata": {
  "kernelspec": {
   "display_name": "saturn (Python 3)",
   "language": "python",
   "name": "python3"
  },
  "language_info": {
   "codemirror_mode": {
    "name": "ipython",
    "version": 3
   },
   "file_extension": ".py",
   "mimetype": "text/x-python",
   "name": "python",
   "nbconvert_exporter": "python",
   "pygments_lexer": "ipython3",
   "version": "3.7.10"
  }
 },
 "nbformat": 4,
 "nbformat_minor": 5
}
