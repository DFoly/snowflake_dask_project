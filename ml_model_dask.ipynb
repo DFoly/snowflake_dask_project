{
 "cells": [
  {
   "cell_type": "code",
   "execution_count": 1,
   "id": "permanent-variable",
   "metadata": {
    "execution": {
     "iopub.execute_input": "2021-06-17T09:54:08.092433Z",
     "iopub.status.busy": "2021-06-17T09:54:08.092113Z",
     "iopub.status.idle": "2021-06-17T09:54:10.223670Z",
     "shell.execute_reply": "2021-06-17T09:54:10.222813Z",
     "shell.execute_reply.started": "2021-06-17T09:54:08.092323Z"
    }
   },
   "outputs": [],
   "source": [
    "import dask\n",
    "import dask.delayed\n",
    "import time\n",
    "import dask.dataframe as dd\n",
    "from dask_ml.compose import ColumnTransformer\n",
    "from dask_ml.impute import SimpleImputer\n",
    "from dask_ml.model_selection import GridSearchCV\n",
    "from dask_ml.preprocessing import StandardScaler, DummyEncoder\n",
    "from sklearn.preprocessing import OneHotEncoder\n",
    "from distributed import wait\n",
    "from dask_ml.metrics import accuracy_score\n",
    "from sklearn.ensemble import GradientBoostingClassifier, RandomForestClassifier\n",
    "from sklearn.linear_model import LogisticRegression\n",
    "from sklearn.metrics import roc_auc_score\n",
    "from dask_ml.model_selection import train_test_split\n",
    "from sklearn.pipeline import Pipeline\n",
    "from dask.distributed import Client, wait\n",
    "from dask_saturn import SaturnCluster\n",
    "\n",
    "# n_workers = 3\n",
    "# cluster = SaturnCluster(n_workers=n_workers, scheduler_size=\"medium\", worker_size=\"large\")\n",
    "# client = Client(cluster)\n",
    "\n",
    "## try local cluster first\n",
    "from dask.distributed import Client, LocalCluster\n",
    "cluster = LocalCluster()\n",
    "client = Client(cluster)"
   ]
  },
  {
   "cell_type": "code",
   "execution_count": 2,
   "id": "tender-interference",
   "metadata": {
    "execution": {
     "iopub.execute_input": "2021-06-17T09:42:18.535222Z",
     "iopub.status.busy": "2021-06-17T09:42:18.535028Z",
     "iopub.status.idle": "2021-06-17T09:42:18.541743Z",
     "shell.execute_reply": "2021-06-17T09:42:18.541148Z",
     "shell.execute_reply.started": "2021-06-17T09:42:18.535198Z"
    }
   },
   "outputs": [],
   "source": [
    "# client.restart()\n",
    "# client.close()\n",
    "# ??LocalCluster"
   ]
  },
  {
   "cell_type": "markdown",
   "id": "subsequent-project",
   "metadata": {},
   "source": [
    "## View Cluster\n",
    "- to access local cluster do the following:\n",
    "  - replace lab/* with proxy/8787/status where the number if the port\n",
    "- If I manually scale I can get more ram than I should"
   ]
  },
  {
   "cell_type": "code",
   "execution_count": 2,
   "id": "mysterious-thickness",
   "metadata": {
    "execution": {
     "iopub.execute_input": "2021-06-17T09:54:14.713770Z",
     "iopub.status.busy": "2021-06-17T09:54:14.713523Z",
     "iopub.status.idle": "2021-06-17T09:54:14.846159Z",
     "shell.execute_reply": "2021-06-17T09:54:14.845248Z",
     "shell.execute_reply.started": "2021-06-17T09:54:14.713744Z"
    }
   },
   "outputs": [
    {
     "data": {
      "application/vnd.jupyter.widget-view+json": {
       "model_id": "4b6e9d4d5dbc474b9862d171a0683ba5",
       "version_major": 2,
       "version_minor": 0
      },
      "text/plain": [
       "VBox(children=(HTML(value='<h2>LocalCluster</h2>'), HBox(children=(HTML(value='\\n<div>\\n  <style scoped>\\n    …"
      ]
     },
     "metadata": {},
     "output_type": "display_data"
    }
   ],
   "source": [
    "cluster"
   ]
  },
  {
   "cell_type": "code",
   "execution_count": 3,
   "id": "present-stephen",
   "metadata": {
    "execution": {
     "iopub.execute_input": "2021-06-17T09:55:09.378054Z",
     "iopub.status.busy": "2021-06-17T09:55:09.377688Z",
     "iopub.status.idle": "2021-06-17T09:56:16.075794Z",
     "shell.execute_reply": "2021-06-17T09:56:16.075142Z",
     "shell.execute_reply.started": "2021-06-17T09:55:09.378004Z"
    }
   },
   "outputs": [
    {
     "name": "stdout",
     "output_type": "stream",
     "text": [
      "Num rows: 2100751, Size: 258.467913 MB\n",
      "TARGET                                  int32\n",
      "HOUSEHOLD_KEY                         float32\n",
      "COUPONS_REDEEMED                        int32\n",
      "NUMBER_OF_CAMPAIGNS                     int32\n",
      "COUPON_DAYS                             int32\n",
      "FIRST_COUPON_DAY                        int32\n",
      "LAST_COUPON_DAY                         int32\n",
      "CAMPAIGNS_RECEIVED_REDEEMED_RATIO     float32\n",
      "NUMBER_TYPE_A                           int32\n",
      "NUMBER_TYPE_B                           int32\n",
      "NUMBER_TYPE_C                           int32\n",
      "AGE_DESC                             category\n",
      "MARITAL_STATUS_CODE                  category\n",
      "INCOME_DESC                          category\n",
      "HOMEOWNER_DESC                       category\n",
      "HH_COMP_DESC                         category\n",
      "HOUSEHOLD_SIZE_DESC                  category\n",
      "KID_CATEGORY_DESC                    category\n",
      "NUMBER_OF_PURCHASES                     int32\n",
      "TOTAL_NUMBER_OF_PRODUCTS                int32\n",
      "AVG_PRODUCTS_PER_BASKET               float32\n",
      "TOTAL_SPEND                             int32\n",
      "STD_SPEND                             float32\n",
      "AVG_SPEND_PER_BASKET                  float32\n",
      "AVG_SPEND_PER_PRODUCT                 float32\n",
      "MOST_EXPENSIVE_PURCHASE                 int32\n",
      "AVG_DISCOUNT                          float32\n",
      "BIGGEST_DISCOUNT                        int32\n",
      "CUSTOMER_AGE                            int32\n",
      "NUMBER_OF_WEEKS                         int32\n",
      "NUMBER_UNIQUE_DAYS                      int32\n",
      "AVG_GAP_IN_TRIPS                      float32\n",
      "STD_GAPS_IN_TRIPS                     float32\n",
      "MAX_GAPS_IN_TRIPS                     float32\n",
      "dtype: object\n"
     ]
    }
   ],
   "source": [
    "df = dd.read_csv(\n",
    "    \"https://storage.googleapis.com/gcpdatascience-tribal-bird-305118/dunnhumby/training_data_psuedo.csv\",\n",
    "     dtype={\n",
    "        'TARGET': 'int32',\n",
    "        'HOUSEHOLD_KEY': 'float32',\n",
    "        'COUPONS_REDEEMED': 'int32',\n",
    "        'NUMBER_OF_CAMPAIGNS': 'int32',\n",
    "        'COUPON_DAYS': 'int32',\n",
    "        'FIRST_COUPON_DAY': 'int32',\n",
    "        'LAST_COUPON_DAY': 'int32',\n",
    "        'CAMPAIGNS_RECEIVED_REDEEMED_RATIO': 'float32',\n",
    "        'NUMBER_TYPE_A': 'int32',\n",
    "        'NUMBER_TYPE_B': 'int32',\n",
    "        'NUMBER_TYPE_C': 'int32',\n",
    "        'AGE_DESC': 'category',\n",
    "        'MARITAL_STATUS_CODE': 'category',\n",
    "        'INCOME_DESC': 'category',\n",
    "        'HOMEOWNER_DESC': 'category',\n",
    "        'HH_COMP_DESC': 'category',\n",
    "        'HOUSEHOLD_SIZE_DESC': 'category',\n",
    "        'KID_CATEGORY_DESC': 'category',\n",
    "        'NUMBER_OF_PURCHASES': 'int32',\n",
    "        'TOTAL_NUMBER_OF_PRODUCTS': 'int32' , \n",
    "        'AVG_PRODUCTS_PER_BASKET': 'float32',\n",
    "        'TOTAL_SPEND': 'int32',\n",
    "        'STD_SPEND': 'float32',\n",
    "        'AVG_SPEND_PER_BASKET': 'float32',\n",
    "        'AVG_SPEND_PER_PRODUCT': 'float32',\n",
    "        'MOST_EXPENSIVE_PURCHASE':'int32',\n",
    "        'AVG_DISCOUNT': 'float32',\n",
    "        'BIGGEST_DISCOUNT': 'int32',\n",
    "        'CUSTOMER_AGE': 'int32',\n",
    "        'NUMBER_OF_WEEKS': 'int32',\n",
    "        'NUMBER_UNIQUE_DAYS': 'int32',\n",
    "        'AVG_GAP_IN_TRIPS': 'float32',\n",
    "        'STD_GAPS_IN_TRIPS': 'float32',\n",
    "        'MAX_GAPS_IN_TRIPS': 'float32'\n",
    "    }\n",
    ").sample(frac=0.3)\n",
    "\n",
    "print(f\"Num rows: {len(df)}, Size: {df.memory_usage(deep=True).sum().compute() / 1e6} MB\")\n",
    "\n",
    "print(df.dtypes)"
   ]
  },
  {
   "cell_type": "code",
   "execution_count": 4,
   "id": "personalized-parker",
   "metadata": {
    "execution": {
     "iopub.execute_input": "2021-06-17T09:56:16.078972Z",
     "iopub.status.busy": "2021-06-17T09:56:16.078594Z",
     "iopub.status.idle": "2021-06-17T09:56:47.814224Z",
     "shell.execute_reply": "2021-06-17T09:56:47.813524Z",
     "shell.execute_reply.started": "2021-06-17T09:56:16.078947Z"
    }
   },
   "outputs": [
    {
     "data": {
      "text/html": [
       "<div><strong>Dask DataFrame Structure:</strong></div>\n",
       "<div>\n",
       "<style scoped>\n",
       "    .dataframe tbody tr th:only-of-type {\n",
       "        vertical-align: middle;\n",
       "    }\n",
       "\n",
       "    .dataframe tbody tr th {\n",
       "        vertical-align: top;\n",
       "    }\n",
       "\n",
       "    .dataframe thead th {\n",
       "        text-align: right;\n",
       "    }\n",
       "</style>\n",
       "<table border=\"1\" class=\"dataframe\">\n",
       "  <thead>\n",
       "    <tr style=\"text-align: right;\">\n",
       "      <th></th>\n",
       "      <th>TARGET</th>\n",
       "      <th>HOUSEHOLD_KEY</th>\n",
       "      <th>COUPONS_REDEEMED</th>\n",
       "      <th>NUMBER_OF_CAMPAIGNS</th>\n",
       "      <th>COUPON_DAYS</th>\n",
       "      <th>FIRST_COUPON_DAY</th>\n",
       "      <th>LAST_COUPON_DAY</th>\n",
       "      <th>CAMPAIGNS_RECEIVED_REDEEMED_RATIO</th>\n",
       "      <th>NUMBER_TYPE_A</th>\n",
       "      <th>NUMBER_TYPE_B</th>\n",
       "      <th>NUMBER_TYPE_C</th>\n",
       "      <th>AGE_DESC</th>\n",
       "      <th>MARITAL_STATUS_CODE</th>\n",
       "      <th>INCOME_DESC</th>\n",
       "      <th>HOMEOWNER_DESC</th>\n",
       "      <th>HH_COMP_DESC</th>\n",
       "      <th>HOUSEHOLD_SIZE_DESC</th>\n",
       "      <th>KID_CATEGORY_DESC</th>\n",
       "      <th>NUMBER_OF_PURCHASES</th>\n",
       "      <th>TOTAL_NUMBER_OF_PRODUCTS</th>\n",
       "      <th>AVG_PRODUCTS_PER_BASKET</th>\n",
       "      <th>TOTAL_SPEND</th>\n",
       "      <th>STD_SPEND</th>\n",
       "      <th>AVG_SPEND_PER_BASKET</th>\n",
       "      <th>AVG_SPEND_PER_PRODUCT</th>\n",
       "      <th>MOST_EXPENSIVE_PURCHASE</th>\n",
       "      <th>AVG_DISCOUNT</th>\n",
       "      <th>BIGGEST_DISCOUNT</th>\n",
       "      <th>CUSTOMER_AGE</th>\n",
       "      <th>NUMBER_OF_WEEKS</th>\n",
       "      <th>NUMBER_UNIQUE_DAYS</th>\n",
       "      <th>AVG_GAP_IN_TRIPS</th>\n",
       "      <th>STD_GAPS_IN_TRIPS</th>\n",
       "      <th>MAX_GAPS_IN_TRIPS</th>\n",
       "    </tr>\n",
       "    <tr>\n",
       "      <th>npartitions=20</th>\n",
       "      <th></th>\n",
       "      <th></th>\n",
       "      <th></th>\n",
       "      <th></th>\n",
       "      <th></th>\n",
       "      <th></th>\n",
       "      <th></th>\n",
       "      <th></th>\n",
       "      <th></th>\n",
       "      <th></th>\n",
       "      <th></th>\n",
       "      <th></th>\n",
       "      <th></th>\n",
       "      <th></th>\n",
       "      <th></th>\n",
       "      <th></th>\n",
       "      <th></th>\n",
       "      <th></th>\n",
       "      <th></th>\n",
       "      <th></th>\n",
       "      <th></th>\n",
       "      <th></th>\n",
       "      <th></th>\n",
       "      <th></th>\n",
       "      <th></th>\n",
       "      <th></th>\n",
       "      <th></th>\n",
       "      <th></th>\n",
       "      <th></th>\n",
       "      <th></th>\n",
       "      <th></th>\n",
       "      <th></th>\n",
       "      <th></th>\n",
       "      <th></th>\n",
       "    </tr>\n",
       "  </thead>\n",
       "  <tbody>\n",
       "    <tr>\n",
       "      <th></th>\n",
       "      <td>int32</td>\n",
       "      <td>float32</td>\n",
       "      <td>int32</td>\n",
       "      <td>int32</td>\n",
       "      <td>int32</td>\n",
       "      <td>int32</td>\n",
       "      <td>int32</td>\n",
       "      <td>float32</td>\n",
       "      <td>int32</td>\n",
       "      <td>int32</td>\n",
       "      <td>int32</td>\n",
       "      <td>category[known]</td>\n",
       "      <td>category[known]</td>\n",
       "      <td>category[known]</td>\n",
       "      <td>category[known]</td>\n",
       "      <td>category[known]</td>\n",
       "      <td>category[known]</td>\n",
       "      <td>category[known]</td>\n",
       "      <td>int32</td>\n",
       "      <td>int32</td>\n",
       "      <td>float32</td>\n",
       "      <td>int32</td>\n",
       "      <td>float32</td>\n",
       "      <td>float32</td>\n",
       "      <td>float32</td>\n",
       "      <td>int32</td>\n",
       "      <td>float32</td>\n",
       "      <td>int32</td>\n",
       "      <td>int32</td>\n",
       "      <td>int32</td>\n",
       "      <td>int32</td>\n",
       "      <td>float32</td>\n",
       "      <td>float32</td>\n",
       "      <td>float32</td>\n",
       "    </tr>\n",
       "    <tr>\n",
       "      <th></th>\n",
       "      <td>...</td>\n",
       "      <td>...</td>\n",
       "      <td>...</td>\n",
       "      <td>...</td>\n",
       "      <td>...</td>\n",
       "      <td>...</td>\n",
       "      <td>...</td>\n",
       "      <td>...</td>\n",
       "      <td>...</td>\n",
       "      <td>...</td>\n",
       "      <td>...</td>\n",
       "      <td>...</td>\n",
       "      <td>...</td>\n",
       "      <td>...</td>\n",
       "      <td>...</td>\n",
       "      <td>...</td>\n",
       "      <td>...</td>\n",
       "      <td>...</td>\n",
       "      <td>...</td>\n",
       "      <td>...</td>\n",
       "      <td>...</td>\n",
       "      <td>...</td>\n",
       "      <td>...</td>\n",
       "      <td>...</td>\n",
       "      <td>...</td>\n",
       "      <td>...</td>\n",
       "      <td>...</td>\n",
       "      <td>...</td>\n",
       "      <td>...</td>\n",
       "      <td>...</td>\n",
       "      <td>...</td>\n",
       "      <td>...</td>\n",
       "      <td>...</td>\n",
       "      <td>...</td>\n",
       "    </tr>\n",
       "    <tr>\n",
       "      <th>...</th>\n",
       "      <td>...</td>\n",
       "      <td>...</td>\n",
       "      <td>...</td>\n",
       "      <td>...</td>\n",
       "      <td>...</td>\n",
       "      <td>...</td>\n",
       "      <td>...</td>\n",
       "      <td>...</td>\n",
       "      <td>...</td>\n",
       "      <td>...</td>\n",
       "      <td>...</td>\n",
       "      <td>...</td>\n",
       "      <td>...</td>\n",
       "      <td>...</td>\n",
       "      <td>...</td>\n",
       "      <td>...</td>\n",
       "      <td>...</td>\n",
       "      <td>...</td>\n",
       "      <td>...</td>\n",
       "      <td>...</td>\n",
       "      <td>...</td>\n",
       "      <td>...</td>\n",
       "      <td>...</td>\n",
       "      <td>...</td>\n",
       "      <td>...</td>\n",
       "      <td>...</td>\n",
       "      <td>...</td>\n",
       "      <td>...</td>\n",
       "      <td>...</td>\n",
       "      <td>...</td>\n",
       "      <td>...</td>\n",
       "      <td>...</td>\n",
       "      <td>...</td>\n",
       "      <td>...</td>\n",
       "    </tr>\n",
       "    <tr>\n",
       "      <th></th>\n",
       "      <td>...</td>\n",
       "      <td>...</td>\n",
       "      <td>...</td>\n",
       "      <td>...</td>\n",
       "      <td>...</td>\n",
       "      <td>...</td>\n",
       "      <td>...</td>\n",
       "      <td>...</td>\n",
       "      <td>...</td>\n",
       "      <td>...</td>\n",
       "      <td>...</td>\n",
       "      <td>...</td>\n",
       "      <td>...</td>\n",
       "      <td>...</td>\n",
       "      <td>...</td>\n",
       "      <td>...</td>\n",
       "      <td>...</td>\n",
       "      <td>...</td>\n",
       "      <td>...</td>\n",
       "      <td>...</td>\n",
       "      <td>...</td>\n",
       "      <td>...</td>\n",
       "      <td>...</td>\n",
       "      <td>...</td>\n",
       "      <td>...</td>\n",
       "      <td>...</td>\n",
       "      <td>...</td>\n",
       "      <td>...</td>\n",
       "      <td>...</td>\n",
       "      <td>...</td>\n",
       "      <td>...</td>\n",
       "      <td>...</td>\n",
       "      <td>...</td>\n",
       "      <td>...</td>\n",
       "    </tr>\n",
       "    <tr>\n",
       "      <th></th>\n",
       "      <td>...</td>\n",
       "      <td>...</td>\n",
       "      <td>...</td>\n",
       "      <td>...</td>\n",
       "      <td>...</td>\n",
       "      <td>...</td>\n",
       "      <td>...</td>\n",
       "      <td>...</td>\n",
       "      <td>...</td>\n",
       "      <td>...</td>\n",
       "      <td>...</td>\n",
       "      <td>...</td>\n",
       "      <td>...</td>\n",
       "      <td>...</td>\n",
       "      <td>...</td>\n",
       "      <td>...</td>\n",
       "      <td>...</td>\n",
       "      <td>...</td>\n",
       "      <td>...</td>\n",
       "      <td>...</td>\n",
       "      <td>...</td>\n",
       "      <td>...</td>\n",
       "      <td>...</td>\n",
       "      <td>...</td>\n",
       "      <td>...</td>\n",
       "      <td>...</td>\n",
       "      <td>...</td>\n",
       "      <td>...</td>\n",
       "      <td>...</td>\n",
       "      <td>...</td>\n",
       "      <td>...</td>\n",
       "      <td>...</td>\n",
       "      <td>...</td>\n",
       "      <td>...</td>\n",
       "    </tr>\n",
       "  </tbody>\n",
       "</table>\n",
       "</div>\n",
       "<div>Dask Name: categorize_block, 60 tasks</div>"
      ],
      "text/plain": [
       "Dask DataFrame Structure:\n",
       "               TARGET HOUSEHOLD_KEY COUPONS_REDEEMED NUMBER_OF_CAMPAIGNS COUPON_DAYS FIRST_COUPON_DAY LAST_COUPON_DAY CAMPAIGNS_RECEIVED_REDEEMED_RATIO NUMBER_TYPE_A NUMBER_TYPE_B NUMBER_TYPE_C         AGE_DESC MARITAL_STATUS_CODE      INCOME_DESC   HOMEOWNER_DESC     HH_COMP_DESC HOUSEHOLD_SIZE_DESC KID_CATEGORY_DESC NUMBER_OF_PURCHASES TOTAL_NUMBER_OF_PRODUCTS AVG_PRODUCTS_PER_BASKET TOTAL_SPEND STD_SPEND AVG_SPEND_PER_BASKET AVG_SPEND_PER_PRODUCT MOST_EXPENSIVE_PURCHASE AVG_DISCOUNT BIGGEST_DISCOUNT CUSTOMER_AGE NUMBER_OF_WEEKS NUMBER_UNIQUE_DAYS AVG_GAP_IN_TRIPS STD_GAPS_IN_TRIPS MAX_GAPS_IN_TRIPS\n",
       "npartitions=20                                                                                                                                                                                                                                                                                                                                                                                                                                                                                                                                                                                                                  \n",
       "                int32       float32            int32               int32       int32            int32           int32                           float32         int32         int32         int32  category[known]     category[known]  category[known]  category[known]  category[known]     category[known]   category[known]               int32                    int32                 float32       int32   float32              float32               float32                   int32      float32            int32        int32           int32              int32          float32           float32           float32\n",
       "                  ...           ...              ...                 ...         ...              ...             ...                               ...           ...           ...           ...              ...                 ...              ...              ...              ...                 ...               ...                 ...                      ...                     ...         ...       ...                  ...                   ...                     ...          ...              ...          ...             ...                ...              ...               ...               ...\n",
       "...               ...           ...              ...                 ...         ...              ...             ...                               ...           ...           ...           ...              ...                 ...              ...              ...              ...                 ...               ...                 ...                      ...                     ...         ...       ...                  ...                   ...                     ...          ...              ...          ...             ...                ...              ...               ...               ...\n",
       "                  ...           ...              ...                 ...         ...              ...             ...                               ...           ...           ...           ...              ...                 ...              ...              ...              ...                 ...               ...                 ...                      ...                     ...         ...       ...                  ...                   ...                     ...          ...              ...          ...             ...                ...              ...               ...               ...\n",
       "                  ...           ...              ...                 ...         ...              ...             ...                               ...           ...           ...           ...              ...                 ...              ...              ...              ...                 ...               ...                 ...                      ...                     ...         ...       ...                  ...                   ...                     ...          ...              ...          ...             ...                ...              ...               ...               ...\n",
       "Dask Name: categorize_block, 60 tasks"
      ]
     },
     "execution_count": 4,
     "metadata": {},
     "output_type": "execute_result"
    }
   ],
   "source": [
    "features = [col for col in df.columns if col not in [\"TARGET\", \"HOUSEHOLD_KEY\"]]\n",
    "label = \"TARGET\"\n",
    "\n",
    "# create column transformer\n",
    "numeric_features = df[features].select_dtypes(include=[\"int64\", \"float64\"]).columns\n",
    "categorical_features = df[features].select_dtypes(include=[\"category\"]).columns\n",
    "\n",
    "df = df.categorize(columns=categorical_features) # need known categorical data for dummyencoder\n",
    "\n",
    "## train test split\n",
    "X_train, X_test, y_train, y_test = train_test_split(\n",
    "    df[features], df[label], test_size=0.25, random_state=2,\n",
    "    shuffle=True\n",
    ")\n",
    "df"
   ]
  },
  {
   "cell_type": "markdown",
   "id": "endangered-karma",
   "metadata": {},
   "source": [
    "## Persist Data to each worker"
   ]
  },
  {
   "cell_type": "code",
   "execution_count": 5,
   "id": "comparative-portal",
   "metadata": {
    "execution": {
     "iopub.execute_input": "2021-06-17T09:56:47.816309Z",
     "iopub.status.busy": "2021-06-17T09:56:47.815870Z",
     "iopub.status.idle": "2021-06-17T09:57:20.288839Z",
     "shell.execute_reply": "2021-06-17T09:57:20.288056Z",
     "shell.execute_reply.started": "2021-06-17T09:56:47.816271Z"
    }
   },
   "outputs": [
    {
     "name": "stdout",
     "output_type": "stream",
     "text": [
      "CPU times: user 3.04 s, sys: 628 ms, total: 3.67 s\n",
      "Wall time: 32.5 s\n"
     ]
    }
   ],
   "source": [
    "%%time\n",
    "X_train,  X_test, y_train, y_test = dask.persist(X_train, X_test, \n",
    "                                                 y_train, y_test)\n",
    "\n",
    "_ = wait(X_train)"
   ]
  },
  {
   "cell_type": "markdown",
   "id": "banner-certificate",
   "metadata": {},
   "source": [
    "## Define our sklearn pipeline"
   ]
  },
  {
   "cell_type": "code",
   "execution_count": 6,
   "id": "floral-story",
   "metadata": {
    "execution": {
     "iopub.execute_input": "2021-06-17T09:57:20.291868Z",
     "iopub.status.busy": "2021-06-17T09:57:20.291658Z",
     "iopub.status.idle": "2021-06-17T09:57:20.301173Z",
     "shell.execute_reply": "2021-06-17T09:57:20.300494Z",
     "shell.execute_reply.started": "2021-06-17T09:57:20.291845Z"
    }
   },
   "outputs": [],
   "source": [
    "numeric_transformer = Pipeline(\n",
    "    steps=[(\"imputer\", SimpleImputer(strategy=\"median\")), (\"scaler\", StandardScaler())]\n",
    ")\n",
    "\n",
    "categorical_transformer =  DummyEncoder()\n",
    "\n",
    "preprocessor = ColumnTransformer(\n",
    "    transformers=[\n",
    "        (\"num\", numeric_transformer, numeric_features),\n",
    "        (\"cat\", categorical_transformer, categorical_features),\n",
    "    ]\n",
    ")\n",
    "\n",
    "pipelines = []\n",
    "\n",
    "lr = Pipeline(\n",
    "    steps=[\n",
    "        (\"preprocessor\", preprocessor),\n",
    "        (\"clf\", LogisticRegression(solver=\"liblinear\", class_weight=\"balanced\")),\n",
    "    ]\n",
    ")\n",
    "\n",
    "rf = Pipeline(\n",
    "       steps=[\n",
    "         (\"preprocessor\", preprocessor),\n",
    "         (\"RF\", RandomForestClassifier(random_state=2, class_weight=\"balanced\")),\n",
    "       ]\n",
    ")\n",
    "\n",
    "\n",
    "xgb = Pipeline(\n",
    "        steps=[\n",
    "         (\"preprocessor\", preprocessor),\n",
    "         (\"XGB\", GradientBoostingClassifier(random_state=2)),\n",
    "                ]\n",
    "            )\n",
    "\n",
    "pipelines = [lr, rf, xgb]"
   ]
  },
  {
   "cell_type": "markdown",
   "id": "ethical-netherlands",
   "metadata": {},
   "source": [
    "## Execute Test Model"
   ]
  },
  {
   "cell_type": "code",
   "execution_count": 8,
   "id": "conditional-storm",
   "metadata": {
    "execution": {
     "iopub.execute_input": "2021-06-17T09:44:19.230611Z",
     "iopub.status.busy": "2021-06-17T09:44:19.230356Z",
     "iopub.status.idle": "2021-06-17T09:44:19.233904Z",
     "shell.execute_reply": "2021-06-17T09:44:19.233237Z",
     "shell.execute_reply.started": "2021-06-17T09:44:19.230578Z"
    }
   },
   "outputs": [],
   "source": [
    "# %%time\n",
    "\n",
    "# start = time.perf_counter()\n",
    "\n",
    "# lr_fitted = lr.fit(X_train, y_train)\n",
    "\n",
    "# preds = lr_fitted.predict_proba(X_test)[:, 1]\n",
    "# end = time.perf_counter()\n",
    "\n",
    "# roc_auc_score(y_test, preds)\n",
    "# timed_fit = end - start"
   ]
  },
  {
   "cell_type": "code",
   "execution_count": null,
   "id": "loved-transfer",
   "metadata": {},
   "outputs": [],
   "source": []
  },
  {
   "cell_type": "markdown",
   "id": "civilian-repair",
   "metadata": {},
   "source": [
    "## Run Multiple Models in a Pipeline"
   ]
  },
  {
   "cell_type": "code",
   "execution_count": 7,
   "id": "adjustable-enhancement",
   "metadata": {
    "execution": {
     "iopub.execute_input": "2021-06-17T09:57:20.304443Z",
     "iopub.status.busy": "2021-06-17T09:57:20.304179Z",
     "iopub.status.idle": "2021-06-17T10:07:37.513113Z",
     "shell.execute_reply": "2021-06-17T10:07:37.512412Z",
     "shell.execute_reply.started": "2021-06-17T09:57:20.304417Z"
    }
   },
   "outputs": [
    {
     "name": "stdout",
     "output_type": "stream",
     "text": [
      "CPU times: user 48.1 s, sys: 9.74 s, total: 57.8 s\n",
      "Wall time: 10min 17s\n"
     ]
    }
   ],
   "source": [
    "%%time\n",
    "\n",
    "start = time.perf_counter()\n",
    "pipelines_ = [dask.delayed(pl).fit(X_train, y_train) for pl in pipelines]\n",
    "fit_pipelines = dask.compute(*pipelines_)\n",
    "end = time.perf_counter()\n",
    "pipeline_timed_fit = end - start"
   ]
  },
  {
   "cell_type": "code",
   "execution_count": 8,
   "id": "exterior-aluminum",
   "metadata": {
    "execution": {
     "iopub.execute_input": "2021-06-17T10:07:37.514555Z",
     "iopub.status.busy": "2021-06-17T10:07:37.514302Z",
     "iopub.status.idle": "2021-06-17T10:07:37.519177Z",
     "shell.execute_reply": "2021-06-17T10:07:37.518398Z",
     "shell.execute_reply.started": "2021-06-17T10:07:37.514522Z"
    }
   },
   "outputs": [
    {
     "name": "stdout",
     "output_type": "stream",
     "text": [
      "617.2008071310001\n"
     ]
    }
   ],
   "source": [
    "print(pipeline_timed_fit)"
   ]
  }
 ],
 "metadata": {
  "kernelspec": {
   "display_name": "saturn (Python 3)",
   "language": "python",
   "name": "python3"
  },
  "language_info": {
   "codemirror_mode": {
    "name": "ipython",
    "version": 3
   },
   "file_extension": ".py",
   "mimetype": "text/x-python",
   "name": "python",
   "nbconvert_exporter": "python",
   "pygments_lexer": "ipython3",
   "version": "3.7.10"
  }
 },
 "nbformat": 4,
 "nbformat_minor": 5
}
